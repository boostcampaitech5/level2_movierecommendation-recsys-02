{
 "cells": [
  {
   "cell_type": "code",
   "execution_count": 2,
   "metadata": {},
   "outputs": [
    {
     "name": "stderr",
     "output_type": "stream",
     "text": [
      "usage: ipykernel_launcher.py [-h] [--pick PICK] [--ratio RATIO]\n",
      "ipykernel_launcher.py: error: unrecognized arguments: --ip=127.0.0.1 --stdin=9003 --control=9001 --hb=9000 --Session.signature_scheme=\"hmac-sha256\" --Session.key=b\"e52193c9-d1f7-447d-b829-161b0a434155\" --shell=9002 --transport=\"tcp\" --iopub=9004 --f=/opt/ml/.local/share/jupyter/runtime/kernel-v2-105539oBHgB40Dq4jj.json\n"
     ]
    },
    {
     "ename": "SystemExit",
     "evalue": "2",
     "output_type": "error",
     "traceback": [
      "An exception has occurred, use %tb to see the full traceback.\n",
      "\u001b[0;31mSystemExit\u001b[0m\u001b[0;31m:\u001b[0m 2\n"
     ]
    }
   ],
   "source": [
    "import sys\n",
    "import pandas as pd\n",
    "from collections import defaultdict\n",
    "from tqdm import tqdm\n",
    "import argparse\n",
    "import os\n",
    "import glob\n",
    "\n",
    "def filepaths(args):\n",
    "    filepaths = glob.glob('*.csv')\n",
    "    if args.pick is not None:\n",
    "        filepaths = [i for i in filepaths if args.pick in i]\n",
    "    print(filepaths)\n",
    "\n",
    "def parse_args():\n",
    "    parser = argparse.ArgumentParser()\n",
    "    parser.add_argument(\"--pick\", default=None, type=str)\n",
    "    parser.add_argument(\"--ratio\", default=None, type=list)\n",
    "    return parser.parse_args()\n",
    "\n",
    "def make_csv():\n",
    "    dataframe_list = []\n",
    "\n",
    "    for i in range(len(filepaths)):\n",
    "        dataframe_list.append(pd.read_csv(filepaths[i]))\n",
    "\n",
    "\n",
    "if __name__ == \"__main__\":\n",
    "    args = parse_args()\n",
    "    #filepaths(args)\n",
    "\n"
   ]
  },
  {
   "cell_type": "code",
   "execution_count": null,
   "metadata": {},
   "outputs": [],
   "source": []
  }
 ],
 "metadata": {
  "kernelspec": {
   "display_name": "base",
   "language": "python",
   "name": "python3"
  },
  "language_info": {
   "codemirror_mode": {
    "name": "ipython",
    "version": 3
   },
   "file_extension": ".py",
   "mimetype": "text/x-python",
   "name": "python",
   "nbconvert_exporter": "python",
   "pygments_lexer": "ipython3",
   "version": "3.8.5"
  },
  "orig_nbformat": 4
 },
 "nbformat": 4,
 "nbformat_minor": 2
}
